{
 "cells": [
  {
   "cell_type": "code",
   "execution_count": 1,
   "metadata": {
    "executionInfo": {
     "elapsed": 484,
     "status": "ok",
     "timestamp": 1649827429393,
     "user": {
      "displayName": "Edwin Jose",
      "userId": "08512034229086733421"
     },
     "user_tz": -330
    },
    "id": "7xfChdarIkSv"
   },
   "outputs": [],
   "source": [
    "from tqdm.notebook import tqdm\n",
    "import codecs\n",
    "import pandas as pd\n",
    "tqdm.pandas()\n",
    "import string\n",
    "from multiprocessing import  Pool\n",
    "import numpy as np\n",
    "import random"
   ]
  },
  {
   "cell_type": "markdown",
   "metadata": {
    "id": "KIW6Kd2tYCHP"
   },
   "source": [
    "# parallelising Dataframe"
   ]
  },
  {
   "cell_type": "code",
   "execution_count": 2,
   "metadata": {
    "executionInfo": {
     "elapsed": 3,
     "status": "ok",
     "timestamp": 1649827430622,
     "user": {
      "displayName": "Edwin Jose",
      "userId": "08512034229086733421"
     },
     "user_tz": -330
    },
    "id": "ELhP1LlpYB5E"
   },
   "outputs": [],
   "source": [
    "def parallelize_dataframe(df, func, n_cores=2):\n",
    "    df_split = np.array_split(df, n_cores)\n",
    "    pool = Pool(n_cores)\n",
    "    df = pd.concat(pool.map(func, df_split))\n",
    "    pool.close()\n",
    "    pool.join()\n",
    "    return df"
   ]
  },
  {
   "cell_type": "code",
   "execution_count": 3,
   "metadata": {
    "colab": {
     "base_uri": "https://localhost:8080/"
    },
    "executionInfo": {
     "elapsed": 25374,
     "status": "ok",
     "timestamp": 1649823108981,
     "user": {
      "displayName": "Edwin Jose",
      "userId": "08512034229086733421"
     },
     "user_tz": -330
    },
    "id": "ydc3RLkaHJnW",
    "outputId": "b9b18870-9121-4393-f106-24b54d96e444"
   },
   "outputs": [],
   "source": [
    "# from google.colab import drive\n",
    "import os\n",
    "# drive.mount('/content/drive')\n",
    "# os.chdir(\"./drive/MyDrive/NLP Project\")\n",
    "os.chdir(\"./\")"
   ]
  },
  {
   "cell_type": "code",
   "execution_count": 4,
   "metadata": {},
   "outputs": [
    {
     "data": {
      "text/plain": [
       "['__pycache__',\n",
       " 'NLP Full.ipynb',\n",
       " 'dummy',\n",
       " 'Post_processing and Classiffication.ipynb',\n",
       " 'embedder.py',\n",
       " '.ipynb_checkpoints',\n",
       " 'splitData']"
      ]
     },
     "execution_count": 4,
     "metadata": {},
     "output_type": "execute_result"
    }
   ],
   "source": [
    "os.listdir()"
   ]
  },
  {
   "cell_type": "markdown",
   "metadata": {
    "id": "2mNqgavMHBLy"
   },
   "source": [
    "# data Download"
   ]
  },
  {
   "cell_type": "code",
   "execution_count": 5,
   "metadata": {
    "executionInfo": {
     "elapsed": 457,
     "status": "ok",
     "timestamp": 1649823114019,
     "user": {
      "displayName": "Edwin Jose",
      "userId": "08512034229086733421"
     },
     "user_tz": -330
    },
    "id": "dAA2MRSqHA-x"
   },
   "outputs": [],
   "source": [
    "# !unzip  \"/content/drive/MyDrive/NLP Project/1.zip\" -d \"/content/drive/MyDrive/NLP Project/unzipData/\"\n",
    "# datafolder=os.listdir(\"./unzipData/\")\n",
    "# import os, zipfile\n",
    "\n",
    "# # dir_name = 'C:\\\\SomeDirectory'\n",
    "# extension = \".zip\"\n",
    "\n",
    "# # os.chdir(dir_name) # c?hange directory from working dir to dir with files?\n",
    "\n",
    "# for item in datafolder: # loop through items in dir\n",
    "#     if item.endswith(extension): # check for \".zip\" extension\n",
    "#         zip_ref = zipfile.ZipFile(\"./unzipData/\"+item) # create zipfile object\n",
    "#         zip_ref.extractall(\"./FinalDataset\") # extract file to dir\n",
    "#         zip_ref.close() # close file"
   ]
  },
  {
   "cell_type": "markdown",
   "metadata": {
    "id": "-hFuoL5RHXQf"
   },
   "source": [
    "# install required packages"
   ]
  },
  {
   "cell_type": "code",
   "execution_count": 6,
   "metadata": {
    "colab": {
     "base_uri": "https://localhost:8080/"
    },
    "executionInfo": {
     "elapsed": 4396,
     "status": "ok",
     "timestamp": 1649823126013,
     "user": {
      "displayName": "Edwin Jose",
      "userId": "08512034229086733421"
     },
     "user_tz": -330
    },
    "id": "up8ErLLl2Syv",
    "outputId": "e686f978-6c10-4dba-cda3-2faf442a2fb9"
   },
   "outputs": [
    {
     "name": "stdout",
     "output_type": "stream",
     "text": [
      "Requirement already satisfied: demoji in /home/edwinjose/Documents/nlp/lib/python3.8/site-packages (1.1.0)\n"
     ]
    }
   ],
   "source": [
    "!pip install demoji"
   ]
  },
  {
   "cell_type": "markdown",
   "metadata": {
    "id": "91aDP9pWHTyz"
   },
   "source": [
    "#loading embedders"
   ]
  },
  {
   "cell_type": "code",
   "execution_count": 7,
   "metadata": {
    "executionInfo": {
     "elapsed": 5253,
     "status": "ok",
     "timestamp": 1649823134625,
     "user": {
      "displayName": "Edwin Jose",
      "userId": "08512034229086733421"
     },
     "user_tz": -330
    },
    "id": "-14taviZ9Eap"
   },
   "outputs": [
    {
     "name": "stderr",
     "output_type": "stream",
     "text": [
      "2022-04-26 13:47:04.985443: W tensorflow/stream_executor/platform/default/dso_loader.cc:64] Could not load dynamic library 'libcudart.so.11.0'; dlerror: libcudart.so.11.0: cannot open shared object file: No such file or directory\n",
      "2022-04-26 13:47:04.985501: I tensorflow/stream_executor/cuda/cudart_stub.cc:29] Ignore above cudart dlerror if you do not have a GPU set up on your machine.\n",
      "2022-04-26 13:47:07.970780: I tensorflow/stream_executor/cuda/cuda_gpu_executor.cc:936] successful NUMA node read from SysFS had negative value (-1), but there must be at least one NUMA node, so returning NUMA node zero\n",
      "2022-04-26 13:47:07.971064: W tensorflow/stream_executor/platform/default/dso_loader.cc:64] Could not load dynamic library 'libcudart.so.11.0'; dlerror: libcudart.so.11.0: cannot open shared object file: No such file or directory\n",
      "2022-04-26 13:47:07.971137: W tensorflow/stream_executor/platform/default/dso_loader.cc:64] Could not load dynamic library 'libcublas.so.11'; dlerror: libcublas.so.11: cannot open shared object file: No such file or directory\n",
      "2022-04-26 13:47:07.971195: W tensorflow/stream_executor/platform/default/dso_loader.cc:64] Could not load dynamic library 'libcublasLt.so.11'; dlerror: libcublasLt.so.11: cannot open shared object file: No such file or directory\n",
      "2022-04-26 13:47:07.971253: W tensorflow/stream_executor/platform/default/dso_loader.cc:64] Could not load dynamic library 'libcufft.so.10'; dlerror: libcufft.so.10: cannot open shared object file: No such file or directory\n",
      "2022-04-26 13:47:07.971310: W tensorflow/stream_executor/platform/default/dso_loader.cc:64] Could not load dynamic library 'libcurand.so.10'; dlerror: libcurand.so.10: cannot open shared object file: No such file or directory\n",
      "2022-04-26 13:47:07.971375: W tensorflow/stream_executor/platform/default/dso_loader.cc:64] Could not load dynamic library 'libcusolver.so.11'; dlerror: libcusolver.so.11: cannot open shared object file: No such file or directory\n",
      "2022-04-26 13:47:07.971431: W tensorflow/stream_executor/platform/default/dso_loader.cc:64] Could not load dynamic library 'libcusparse.so.11'; dlerror: libcusparse.so.11: cannot open shared object file: No such file or directory\n",
      "2022-04-26 13:47:07.971488: W tensorflow/stream_executor/platform/default/dso_loader.cc:64] Could not load dynamic library 'libcudnn.so.8'; dlerror: libcudnn.so.8: cannot open shared object file: No such file or directory\n",
      "2022-04-26 13:47:07.971496: W tensorflow/core/common_runtime/gpu/gpu_device.cc:1850] Cannot dlopen some GPU libraries. Please make sure the missing libraries mentioned above are installed properly if you would like to use GPU. Follow the guide at https://www.tensorflow.org/install/gpu for how to download and setup the required libraries for your platform.\n",
      "Skipping registering GPU devices...\n"
     ]
    }
   ],
   "source": [
    "from embedder import GoogleUniversalSentenceEncoder"
   ]
  },
  {
   "cell_type": "code",
   "execution_count": 14,
   "metadata": {
    "executionInfo": {
     "elapsed": 17922,
     "status": "ok",
     "timestamp": 1649823154765,
     "user": {
      "displayName": "Edwin Jose",
      "userId": "08512034229086733421"
     },
     "user_tz": -330
    },
    "id": "h0Bbqq5j9Yoo"
   },
   "outputs": [],
   "source": [
    "# guse = GoogleUniversalSentenceEncoder()\n",
    "import tensorflow_hub as hub\n",
    "import tensorflow_text\n",
    "    \n",
    "# The 16-language multilingual module is the default but feel free\n",
    "# to pick others from the list and compare the results.\n",
    "module_url = 'https://tfhub.dev/google/universal-sentence-encoder-multilingual/3' #@param ['https://tfhub.dev/google/universal-sentence-encoder-multilingual/3', 'https://tfhub.dev/google/universal-sentence-encoder-multilingual-large/3']\n",
    "\n",
    "model = hub.load(module_url)\n",
    "\n",
    "def embed_text(input):\n",
    "    return model(input)[-1]\n",
    "\n",
    "def embed_text_list(input):\n",
    "    return model(input).numpy()"
   ]
  },
  {
   "cell_type": "markdown",
   "metadata": {
    "id": "C06qwLT-G4eY"
   },
   "source": [
    "# preprocessing functions"
   ]
  },
  {
   "cell_type": "code",
   "execution_count": 15,
   "metadata": {
    "executionInfo": {
     "elapsed": 388,
     "status": "ok",
     "timestamp": 1649826574317,
     "user": {
      "displayName": "Edwin Jose",
      "userId": "08512034229086733421"
     },
     "user_tz": -330
    },
    "id": "WZ42ixPB9c4f"
   },
   "outputs": [],
   "source": [
    "import string\n",
    "import re\n",
    "import demoji\n",
    "def preprocessText(text):\n",
    "    text = str(text)\n",
    "    # remove url from text\n",
    "    text = re.sub(r'http\\S+', '', text)\n",
    "    # remove the punctuations and emojis from the text\n",
    "    # text = emoji.replace_emoji(text, '')\n",
    "    text = demoji.replace(text,\"\")\n",
    "    # text = \"\".join([c for c in text if c not in string.punctuation])\n",
    "    text=str(text).translate(str.maketrans('','',string.punctuation))\n",
    "    return text\n",
    "\n",
    "def preprocessDF(df):\n",
    "    df=df.loc[:,[\"mid\",\"text\",\"created_at\",\"deleted_last_seen\",\"permission_denied\"]].fillna(False)\n",
    "    return df"
   ]
  },
  {
   "cell_type": "markdown",
   "metadata": {
    "id": "w6GpzhD6Gk_r"
   },
   "source": [
    "# encode and save to solve issue of the utf8 read error"
   ]
  },
  {
   "cell_type": "code",
   "execution_count": 16,
   "metadata": {
    "colab": {
     "base_uri": "https://localhost:8080/",
     "height": 49,
     "referenced_widgets": [
      "3bc45732853c4b9db58078275b425de4",
      "8e30a6c26b614994894ae7500ece30c4",
      "fc21bb5384b84bc381149e25bd7a4acc",
      "4d30d31b9748415bb399be158ef4272f",
      "288d756143a8449f8fda88eb25793282",
      "1e1e03bcb58c4fd48d7498e066a5d80a",
      "a69fc78710da4539b2a322c049c921c4",
      "fc91b96a91954e2d912759b8c6f7ff2f",
      "76499d925c50497f9a521c7ef8f7523e",
      "c6bbb9e4b22e43938daced19c787f10d",
      "13fc2e790bac4b659d2407ad351d8e4e"
     ]
    },
    "executionInfo": {
     "elapsed": 976647,
     "status": "ok",
     "timestamp": 1649824380947,
     "user": {
      "displayName": "Edwin Jose",
      "userId": "08512034229086733421"
     },
     "user_tz": -330
    },
    "id": "rST29ecq_Z90",
    "outputId": "7aaee6e8-99c5-4c9d-a12f-4ac617ab567d"
   },
   "outputs": [],
   "source": [
    "# for csv in tqdm(os.listdir(\"./FinalDataset/\")):\n",
    "#   with codecs.open(\"./FinalDataset/\"+csv, 'r', encoding='utf-8',errors='ignore') as fdata:\n",
    "#     csvData=fdata.read()\n",
    "#   with open(\"./encodedDatasetV2/\"+\"p_\"+csv, 'w', encoding='utf8') as f:\n",
    "#     f.write(csvData)\n",
    "\n",
    "# del csvData\n",
    "# del f"
   ]
  },
  {
   "cell_type": "markdown",
   "metadata": {
    "id": "MlKi-bjWJWI_"
   },
   "source": [
    "# find all the censored data"
   ]
  },
  {
   "cell_type": "code",
   "execution_count": 17,
   "metadata": {
    "executionInfo": {
     "elapsed": 357,
     "status": "ok",
     "timestamp": 1649826350240,
     "user": {
      "displayName": "Edwin Jose",
      "userId": "08512034229086733421"
     },
     "user_tz": -330
    },
    "id": "Rvc-8GWQKlzJ"
   },
   "outputs": [],
   "source": [
    "def getDataSplit(df):\n",
    "    df_censored=df.loc[df[\"permission_denied\"]==True]\n",
    "    df_not_censored=df.loc[df[\"permission_denied\"]==False]\n",
    "    return df_censored,df_not_censored"
   ]
  },
  {
   "cell_type": "code",
   "execution_count": null,
   "metadata": {
    "id": "HGznBY41YWIX"
   },
   "outputs": [],
   "source": []
  },
  {
   "cell_type": "code",
   "execution_count": 18,
   "metadata": {
    "executionInfo": {
     "elapsed": 5,
     "status": "ok",
     "timestamp": 1649827590141,
     "user": {
      "displayName": "Edwin Jose",
      "userId": "08512034229086733421"
     },
     "user_tz": -330
    },
    "id": "vrpp8xWxYUnS"
   },
   "outputs": [],
   "source": [
    "def parallelPreprocess(df):\n",
    "    df[\"text\"] = df[\"text\"].progress_apply(lambda x:preprocessText(str(x)))\n",
    "    return df"
   ]
  },
  {
   "cell_type": "code",
   "execution_count": 19,
   "metadata": {},
   "outputs": [],
   "source": [
    "data_folder=\"/home/edwinjose/Documents/NLP Project/dataset/encodedDatasetV2/\"\n",
    "# os.listdir(data_folder)"
   ]
  },
  {
   "cell_type": "code",
   "execution_count": 20,
   "metadata": {},
   "outputs": [
    {
     "data": {
      "text/plain": [
       "['__pycache__',\n",
       " 'NLP Full.ipynb',\n",
       " 'dummy',\n",
       " 'Post_processing and Classiffication.ipynb',\n",
       " 'embedder.py',\n",
       " '.ipynb_checkpoints',\n",
       " 'splitData']"
      ]
     },
     "execution_count": 20,
     "metadata": {},
     "output_type": "execute_result"
    }
   ],
   "source": [
    "os.listdir()"
   ]
  },
  {
   "cell_type": "code",
   "execution_count": 27,
   "metadata": {
    "colab": {
     "base_uri": "https://localhost:8080/",
     "height": 84,
     "referenced_widgets": [
      "060fdb1d44df45989a850b1dc808e585",
      "cb24f6740718425ea297338900205583",
      "00890b642edf4234aafbb8855cba20b1",
      "2ec3a8b618ab490eb1055c99cc8c6206",
      "e8394358503643d6ba792bbec1c22aeb",
      "4113b97e0d4946469069d24155855bd4",
      "4cdae389b5e144a68ca4ac6bf827a0f1",
      "68fe0f6d0eba47e8a09ee665b8089020",
      "c48c73e7c5214a019fbde56817fc8757",
      "626790ca6c6a4f27a8875cc8fa1bc9d3",
      "ad0dcec4c53f4d8b9bd9c5574082a0e6"
     ]
    },
    "id": "gQ7BFjA7JVvd",
    "outputId": "dff49e29-219d-4d29-fbe0-28c9a143dacc"
   },
   "outputs": [
    {
     "data": {
      "application/vnd.jupyter.widget-view+json": {
       "model_id": "7e57d640ed344c42ba5314e03b2c0288",
       "version_major": 2,
       "version_minor": 0
      },
      "text/plain": [
       "  0%|          | 0/52 [00:00<?, ?it/s]"
      ]
     },
     "metadata": {},
     "output_type": "display_data"
    },
    {
     "name": "stderr",
     "output_type": "stream",
     "text": [
      "/tmp/ipykernel_9230/533125187.py:2: DtypeWarning: Columns (10) have mixed types. Specify dtype option on import or set low_memory=False.\n",
      "  df=pd.read_csv(data_folder+csv)\n",
      "/tmp/ipykernel_9230/533125187.py:2: DtypeWarning: Columns (10) have mixed types. Specify dtype option on import or set low_memory=False.\n",
      "  df=pd.read_csv(data_folder+csv)\n",
      "/tmp/ipykernel_9230/533125187.py:2: DtypeWarning: Columns (10) have mixed types. Specify dtype option on import or set low_memory=False.\n",
      "  df=pd.read_csv(data_folder+csv)\n",
      "/tmp/ipykernel_9230/533125187.py:2: DtypeWarning: Columns (10) have mixed types. Specify dtype option on import or set low_memory=False.\n",
      "  df=pd.read_csv(data_folder+csv)\n",
      "/tmp/ipykernel_9230/533125187.py:2: DtypeWarning: Columns (10) have mixed types. Specify dtype option on import or set low_memory=False.\n",
      "  df=pd.read_csv(data_folder+csv)\n",
      "/tmp/ipykernel_9230/533125187.py:2: DtypeWarning: Columns (10) have mixed types. Specify dtype option on import or set low_memory=False.\n",
      "  df=pd.read_csv(data_folder+csv)\n",
      "/tmp/ipykernel_9230/533125187.py:2: DtypeWarning: Columns (10) have mixed types. Specify dtype option on import or set low_memory=False.\n",
      "  df=pd.read_csv(data_folder+csv)\n",
      "/tmp/ipykernel_9230/533125187.py:2: DtypeWarning: Columns (10) have mixed types. Specify dtype option on import or set low_memory=False.\n",
      "  df=pd.read_csv(data_folder+csv)\n",
      "/tmp/ipykernel_9230/533125187.py:2: DtypeWarning: Columns (10) have mixed types. Specify dtype option on import or set low_memory=False.\n",
      "  df=pd.read_csv(data_folder+csv)\n",
      "/tmp/ipykernel_9230/533125187.py:2: DtypeWarning: Columns (10) have mixed types. Specify dtype option on import or set low_memory=False.\n",
      "  df=pd.read_csv(data_folder+csv)\n",
      "/tmp/ipykernel_9230/533125187.py:2: DtypeWarning: Columns (10) have mixed types. Specify dtype option on import or set low_memory=False.\n",
      "  df=pd.read_csv(data_folder+csv)\n",
      "/tmp/ipykernel_9230/533125187.py:2: DtypeWarning: Columns (7,10) have mixed types. Specify dtype option on import or set low_memory=False.\n",
      "  df=pd.read_csv(data_folder+csv)\n",
      "/tmp/ipykernel_9230/533125187.py:2: DtypeWarning: Columns (10) have mixed types. Specify dtype option on import or set low_memory=False.\n",
      "  df=pd.read_csv(data_folder+csv)\n",
      "/tmp/ipykernel_9230/533125187.py:2: DtypeWarning: Columns (10) have mixed types. Specify dtype option on import or set low_memory=False.\n",
      "  df=pd.read_csv(data_folder+csv)\n",
      "/tmp/ipykernel_9230/533125187.py:2: DtypeWarning: Columns (10) have mixed types. Specify dtype option on import or set low_memory=False.\n",
      "  df=pd.read_csv(data_folder+csv)\n",
      "/tmp/ipykernel_9230/533125187.py:2: DtypeWarning: Columns (10) have mixed types. Specify dtype option on import or set low_memory=False.\n",
      "  df=pd.read_csv(data_folder+csv)\n",
      "/tmp/ipykernel_9230/533125187.py:2: DtypeWarning: Columns (10) have mixed types. Specify dtype option on import or set low_memory=False.\n",
      "  df=pd.read_csv(data_folder+csv)\n",
      "/tmp/ipykernel_9230/533125187.py:2: DtypeWarning: Columns (10) have mixed types. Specify dtype option on import or set low_memory=False.\n",
      "  df=pd.read_csv(data_folder+csv)\n",
      "/tmp/ipykernel_9230/533125187.py:2: DtypeWarning: Columns (10) have mixed types. Specify dtype option on import or set low_memory=False.\n",
      "  df=pd.read_csv(data_folder+csv)\n",
      "/tmp/ipykernel_9230/533125187.py:2: DtypeWarning: Columns (10) have mixed types. Specify dtype option on import or set low_memory=False.\n",
      "  df=pd.read_csv(data_folder+csv)\n",
      "/tmp/ipykernel_9230/533125187.py:2: DtypeWarning: Columns (10) have mixed types. Specify dtype option on import or set low_memory=False.\n",
      "  df=pd.read_csv(data_folder+csv)\n"
     ]
    }
   ],
   "source": [
    "\n",
    "for csv in tqdm(os.listdir(data_folder)):\n",
    "    df=pd.read_csv(data_folder+csv)\n",
    "    df_clean=preprocessDF(df)\n",
    "    df_censored,_ = getDataSplit(df_clean)\n",
    "    df_censored = parallelize_dataframe(df = df_censored, func = parallelPreprocess, n_cores=7 )\n",
    "    df_censored.to_csv('./splitData/censored.csv', mode='a', index=False)\n",
    "    # df_not_censored.to_csv('./splitData/not_censored.csv', mode='a', index=False, )\n",
    "    del df_censored\n",
    "    del df_clean\n",
    "  \n"
   ]
  },
  {
   "cell_type": "code",
   "execution_count": 26,
   "metadata": {
    "id": "ScxWdl7IQrp-"
   },
   "outputs": [],
   "source": []
  },
  {
   "cell_type": "code",
   "execution_count": 28,
   "metadata": {},
   "outputs": [],
   "source": []
  },
  {
   "cell_type": "code",
   "execution_count": null,
   "metadata": {},
   "outputs": [],
   "source": []
  }
 ],
 "metadata": {
  "colab": {
   "collapsed_sections": [],
   "name": "NLP Full",
   "provenance": [],
   "toc_visible": true
  },
  "kernelspec": {
   "display_name": "Python 3 (ipykernel)",
   "language": "python",
   "name": "python3"
  },
  "language_info": {
   "codemirror_mode": {
    "name": "ipython",
    "version": 3
   },
   "file_extension": ".py",
   "mimetype": "text/x-python",
   "name": "python",
   "nbconvert_exporter": "python",
   "pygments_lexer": "ipython3",
   "version": "3.8.10"
  },
  "widgets": {
   "application/vnd.jupyter.widget-state+json": {
    "00890b642edf4234aafbb8855cba20b1": {
     "model_module": "@jupyter-widgets/controls",
     "model_module_version": "1.5.0",
     "model_name": "FloatProgressModel",
     "state": {
      "_dom_classes": [],
      "_model_module": "@jupyter-widgets/controls",
      "_model_module_version": "1.5.0",
      "_model_name": "FloatProgressModel",
      "_view_count": null,
      "_view_module": "@jupyter-widgets/controls",
      "_view_module_version": "1.5.0",
      "_view_name": "ProgressView",
      "bar_style": "",
      "description": "",
      "description_tooltip": null,
      "layout": "IPY_MODEL_68fe0f6d0eba47e8a09ee665b8089020",
      "max": 20,
      "min": 0,
      "orientation": "horizontal",
      "style": "IPY_MODEL_c48c73e7c5214a019fbde56817fc8757",
      "value": 0
     }
    },
    "060fdb1d44df45989a850b1dc808e585": {
     "model_module": "@jupyter-widgets/controls",
     "model_module_version": "1.5.0",
     "model_name": "HBoxModel",
     "state": {
      "_dom_classes": [],
      "_model_module": "@jupyter-widgets/controls",
      "_model_module_version": "1.5.0",
      "_model_name": "HBoxModel",
      "_view_count": null,
      "_view_module": "@jupyter-widgets/controls",
      "_view_module_version": "1.5.0",
      "_view_name": "HBoxView",
      "box_style": "",
      "children": [
       "IPY_MODEL_cb24f6740718425ea297338900205583",
       "IPY_MODEL_00890b642edf4234aafbb8855cba20b1",
       "IPY_MODEL_2ec3a8b618ab490eb1055c99cc8c6206"
      ],
      "layout": "IPY_MODEL_e8394358503643d6ba792bbec1c22aeb"
     }
    },
    "13fc2e790bac4b659d2407ad351d8e4e": {
     "model_module": "@jupyter-widgets/controls",
     "model_module_version": "1.5.0",
     "model_name": "DescriptionStyleModel",
     "state": {
      "_model_module": "@jupyter-widgets/controls",
      "_model_module_version": "1.5.0",
      "_model_name": "DescriptionStyleModel",
      "_view_count": null,
      "_view_module": "@jupyter-widgets/base",
      "_view_module_version": "1.2.0",
      "_view_name": "StyleView",
      "description_width": ""
     }
    },
    "1e1e03bcb58c4fd48d7498e066a5d80a": {
     "model_module": "@jupyter-widgets/base",
     "model_module_version": "1.2.0",
     "model_name": "LayoutModel",
     "state": {
      "_model_module": "@jupyter-widgets/base",
      "_model_module_version": "1.2.0",
      "_model_name": "LayoutModel",
      "_view_count": null,
      "_view_module": "@jupyter-widgets/base",
      "_view_module_version": "1.2.0",
      "_view_name": "LayoutView",
      "align_content": null,
      "align_items": null,
      "align_self": null,
      "border": null,
      "bottom": null,
      "display": null,
      "flex": null,
      "flex_flow": null,
      "grid_area": null,
      "grid_auto_columns": null,
      "grid_auto_flow": null,
      "grid_auto_rows": null,
      "grid_column": null,
      "grid_gap": null,
      "grid_row": null,
      "grid_template_areas": null,
      "grid_template_columns": null,
      "grid_template_rows": null,
      "height": null,
      "justify_content": null,
      "justify_items": null,
      "left": null,
      "margin": null,
      "max_height": null,
      "max_width": null,
      "min_height": null,
      "min_width": null,
      "object_fit": null,
      "object_position": null,
      "order": null,
      "overflow": null,
      "overflow_x": null,
      "overflow_y": null,
      "padding": null,
      "right": null,
      "top": null,
      "visibility": null,
      "width": null
     }
    },
    "288d756143a8449f8fda88eb25793282": {
     "model_module": "@jupyter-widgets/base",
     "model_module_version": "1.2.0",
     "model_name": "LayoutModel",
     "state": {
      "_model_module": "@jupyter-widgets/base",
      "_model_module_version": "1.2.0",
      "_model_name": "LayoutModel",
      "_view_count": null,
      "_view_module": "@jupyter-widgets/base",
      "_view_module_version": "1.2.0",
      "_view_name": "LayoutView",
      "align_content": null,
      "align_items": null,
      "align_self": null,
      "border": null,
      "bottom": null,
      "display": null,
      "flex": null,
      "flex_flow": null,
      "grid_area": null,
      "grid_auto_columns": null,
      "grid_auto_flow": null,
      "grid_auto_rows": null,
      "grid_column": null,
      "grid_gap": null,
      "grid_row": null,
      "grid_template_areas": null,
      "grid_template_columns": null,
      "grid_template_rows": null,
      "height": null,
      "justify_content": null,
      "justify_items": null,
      "left": null,
      "margin": null,
      "max_height": null,
      "max_width": null,
      "min_height": null,
      "min_width": null,
      "object_fit": null,
      "object_position": null,
      "order": null,
      "overflow": null,
      "overflow_x": null,
      "overflow_y": null,
      "padding": null,
      "right": null,
      "top": null,
      "visibility": null,
      "width": null
     }
    },
    "2ec3a8b618ab490eb1055c99cc8c6206": {
     "model_module": "@jupyter-widgets/controls",
     "model_module_version": "1.5.0",
     "model_name": "HTMLModel",
     "state": {
      "_dom_classes": [],
      "_model_module": "@jupyter-widgets/controls",
      "_model_module_version": "1.5.0",
      "_model_name": "HTMLModel",
      "_view_count": null,
      "_view_module": "@jupyter-widgets/controls",
      "_view_module_version": "1.5.0",
      "_view_name": "HTMLView",
      "description": "",
      "description_tooltip": null,
      "layout": "IPY_MODEL_626790ca6c6a4f27a8875cc8fa1bc9d3",
      "placeholder": "​",
      "style": "IPY_MODEL_ad0dcec4c53f4d8b9bd9c5574082a0e6",
      "value": " 0/20 [00:00&lt;?, ?it/s]"
     }
    },
    "3bc45732853c4b9db58078275b425de4": {
     "model_module": "@jupyter-widgets/controls",
     "model_module_version": "1.5.0",
     "model_name": "HBoxModel",
     "state": {
      "_dom_classes": [],
      "_model_module": "@jupyter-widgets/controls",
      "_model_module_version": "1.5.0",
      "_model_name": "HBoxModel",
      "_view_count": null,
      "_view_module": "@jupyter-widgets/controls",
      "_view_module_version": "1.5.0",
      "_view_name": "HBoxView",
      "box_style": "",
      "children": [
       "IPY_MODEL_8e30a6c26b614994894ae7500ece30c4",
       "IPY_MODEL_fc21bb5384b84bc381149e25bd7a4acc",
       "IPY_MODEL_4d30d31b9748415bb399be158ef4272f"
      ],
      "layout": "IPY_MODEL_288d756143a8449f8fda88eb25793282"
     }
    },
    "4113b97e0d4946469069d24155855bd4": {
     "model_module": "@jupyter-widgets/base",
     "model_module_version": "1.2.0",
     "model_name": "LayoutModel",
     "state": {
      "_model_module": "@jupyter-widgets/base",
      "_model_module_version": "1.2.0",
      "_model_name": "LayoutModel",
      "_view_count": null,
      "_view_module": "@jupyter-widgets/base",
      "_view_module_version": "1.2.0",
      "_view_name": "LayoutView",
      "align_content": null,
      "align_items": null,
      "align_self": null,
      "border": null,
      "bottom": null,
      "display": null,
      "flex": null,
      "flex_flow": null,
      "grid_area": null,
      "grid_auto_columns": null,
      "grid_auto_flow": null,
      "grid_auto_rows": null,
      "grid_column": null,
      "grid_gap": null,
      "grid_row": null,
      "grid_template_areas": null,
      "grid_template_columns": null,
      "grid_template_rows": null,
      "height": null,
      "justify_content": null,
      "justify_items": null,
      "left": null,
      "margin": null,
      "max_height": null,
      "max_width": null,
      "min_height": null,
      "min_width": null,
      "object_fit": null,
      "object_position": null,
      "order": null,
      "overflow": null,
      "overflow_x": null,
      "overflow_y": null,
      "padding": null,
      "right": null,
      "top": null,
      "visibility": null,
      "width": null
     }
    },
    "4cdae389b5e144a68ca4ac6bf827a0f1": {
     "model_module": "@jupyter-widgets/controls",
     "model_module_version": "1.5.0",
     "model_name": "DescriptionStyleModel",
     "state": {
      "_model_module": "@jupyter-widgets/controls",
      "_model_module_version": "1.5.0",
      "_model_name": "DescriptionStyleModel",
      "_view_count": null,
      "_view_module": "@jupyter-widgets/base",
      "_view_module_version": "1.2.0",
      "_view_name": "StyleView",
      "description_width": ""
     }
    },
    "4d30d31b9748415bb399be158ef4272f": {
     "model_module": "@jupyter-widgets/controls",
     "model_module_version": "1.5.0",
     "model_name": "HTMLModel",
     "state": {
      "_dom_classes": [],
      "_model_module": "@jupyter-widgets/controls",
      "_model_module_version": "1.5.0",
      "_model_name": "HTMLModel",
      "_view_count": null,
      "_view_module": "@jupyter-widgets/controls",
      "_view_module_version": "1.5.0",
      "_view_name": "HTMLView",
      "description": "",
      "description_tooltip": null,
      "layout": "IPY_MODEL_c6bbb9e4b22e43938daced19c787f10d",
      "placeholder": "​",
      "style": "IPY_MODEL_13fc2e790bac4b659d2407ad351d8e4e",
      "value": " 52/52 [16:19&lt;00:00, 22.30s/it]"
     }
    },
    "626790ca6c6a4f27a8875cc8fa1bc9d3": {
     "model_module": "@jupyter-widgets/base",
     "model_module_version": "1.2.0",
     "model_name": "LayoutModel",
     "state": {
      "_model_module": "@jupyter-widgets/base",
      "_model_module_version": "1.2.0",
      "_model_name": "LayoutModel",
      "_view_count": null,
      "_view_module": "@jupyter-widgets/base",
      "_view_module_version": "1.2.0",
      "_view_name": "LayoutView",
      "align_content": null,
      "align_items": null,
      "align_self": null,
      "border": null,
      "bottom": null,
      "display": null,
      "flex": null,
      "flex_flow": null,
      "grid_area": null,
      "grid_auto_columns": null,
      "grid_auto_flow": null,
      "grid_auto_rows": null,
      "grid_column": null,
      "grid_gap": null,
      "grid_row": null,
      "grid_template_areas": null,
      "grid_template_columns": null,
      "grid_template_rows": null,
      "height": null,
      "justify_content": null,
      "justify_items": null,
      "left": null,
      "margin": null,
      "max_height": null,
      "max_width": null,
      "min_height": null,
      "min_width": null,
      "object_fit": null,
      "object_position": null,
      "order": null,
      "overflow": null,
      "overflow_x": null,
      "overflow_y": null,
      "padding": null,
      "right": null,
      "top": null,
      "visibility": null,
      "width": null
     }
    },
    "68fe0f6d0eba47e8a09ee665b8089020": {
     "model_module": "@jupyter-widgets/base",
     "model_module_version": "1.2.0",
     "model_name": "LayoutModel",
     "state": {
      "_model_module": "@jupyter-widgets/base",
      "_model_module_version": "1.2.0",
      "_model_name": "LayoutModel",
      "_view_count": null,
      "_view_module": "@jupyter-widgets/base",
      "_view_module_version": "1.2.0",
      "_view_name": "LayoutView",
      "align_content": null,
      "align_items": null,
      "align_self": null,
      "border": null,
      "bottom": null,
      "display": null,
      "flex": null,
      "flex_flow": null,
      "grid_area": null,
      "grid_auto_columns": null,
      "grid_auto_flow": null,
      "grid_auto_rows": null,
      "grid_column": null,
      "grid_gap": null,
      "grid_row": null,
      "grid_template_areas": null,
      "grid_template_columns": null,
      "grid_template_rows": null,
      "height": null,
      "justify_content": null,
      "justify_items": null,
      "left": null,
      "margin": null,
      "max_height": null,
      "max_width": null,
      "min_height": null,
      "min_width": null,
      "object_fit": null,
      "object_position": null,
      "order": null,
      "overflow": null,
      "overflow_x": null,
      "overflow_y": null,
      "padding": null,
      "right": null,
      "top": null,
      "visibility": null,
      "width": null
     }
    },
    "76499d925c50497f9a521c7ef8f7523e": {
     "model_module": "@jupyter-widgets/controls",
     "model_module_version": "1.5.0",
     "model_name": "ProgressStyleModel",
     "state": {
      "_model_module": "@jupyter-widgets/controls",
      "_model_module_version": "1.5.0",
      "_model_name": "ProgressStyleModel",
      "_view_count": null,
      "_view_module": "@jupyter-widgets/base",
      "_view_module_version": "1.2.0",
      "_view_name": "StyleView",
      "bar_color": null,
      "description_width": ""
     }
    },
    "8e30a6c26b614994894ae7500ece30c4": {
     "model_module": "@jupyter-widgets/controls",
     "model_module_version": "1.5.0",
     "model_name": "HTMLModel",
     "state": {
      "_dom_classes": [],
      "_model_module": "@jupyter-widgets/controls",
      "_model_module_version": "1.5.0",
      "_model_name": "HTMLModel",
      "_view_count": null,
      "_view_module": "@jupyter-widgets/controls",
      "_view_module_version": "1.5.0",
      "_view_name": "HTMLView",
      "description": "",
      "description_tooltip": null,
      "layout": "IPY_MODEL_1e1e03bcb58c4fd48d7498e066a5d80a",
      "placeholder": "​",
      "style": "IPY_MODEL_a69fc78710da4539b2a322c049c921c4",
      "value": "100%"
     }
    },
    "a69fc78710da4539b2a322c049c921c4": {
     "model_module": "@jupyter-widgets/controls",
     "model_module_version": "1.5.0",
     "model_name": "DescriptionStyleModel",
     "state": {
      "_model_module": "@jupyter-widgets/controls",
      "_model_module_version": "1.5.0",
      "_model_name": "DescriptionStyleModel",
      "_view_count": null,
      "_view_module": "@jupyter-widgets/base",
      "_view_module_version": "1.2.0",
      "_view_name": "StyleView",
      "description_width": ""
     }
    },
    "ad0dcec4c53f4d8b9bd9c5574082a0e6": {
     "model_module": "@jupyter-widgets/controls",
     "model_module_version": "1.5.0",
     "model_name": "DescriptionStyleModel",
     "state": {
      "_model_module": "@jupyter-widgets/controls",
      "_model_module_version": "1.5.0",
      "_model_name": "DescriptionStyleModel",
      "_view_count": null,
      "_view_module": "@jupyter-widgets/base",
      "_view_module_version": "1.2.0",
      "_view_name": "StyleView",
      "description_width": ""
     }
    },
    "c48c73e7c5214a019fbde56817fc8757": {
     "model_module": "@jupyter-widgets/controls",
     "model_module_version": "1.5.0",
     "model_name": "ProgressStyleModel",
     "state": {
      "_model_module": "@jupyter-widgets/controls",
      "_model_module_version": "1.5.0",
      "_model_name": "ProgressStyleModel",
      "_view_count": null,
      "_view_module": "@jupyter-widgets/base",
      "_view_module_version": "1.2.0",
      "_view_name": "StyleView",
      "bar_color": null,
      "description_width": ""
     }
    },
    "c6bbb9e4b22e43938daced19c787f10d": {
     "model_module": "@jupyter-widgets/base",
     "model_module_version": "1.2.0",
     "model_name": "LayoutModel",
     "state": {
      "_model_module": "@jupyter-widgets/base",
      "_model_module_version": "1.2.0",
      "_model_name": "LayoutModel",
      "_view_count": null,
      "_view_module": "@jupyter-widgets/base",
      "_view_module_version": "1.2.0",
      "_view_name": "LayoutView",
      "align_content": null,
      "align_items": null,
      "align_self": null,
      "border": null,
      "bottom": null,
      "display": null,
      "flex": null,
      "flex_flow": null,
      "grid_area": null,
      "grid_auto_columns": null,
      "grid_auto_flow": null,
      "grid_auto_rows": null,
      "grid_column": null,
      "grid_gap": null,
      "grid_row": null,
      "grid_template_areas": null,
      "grid_template_columns": null,
      "grid_template_rows": null,
      "height": null,
      "justify_content": null,
      "justify_items": null,
      "left": null,
      "margin": null,
      "max_height": null,
      "max_width": null,
      "min_height": null,
      "min_width": null,
      "object_fit": null,
      "object_position": null,
      "order": null,
      "overflow": null,
      "overflow_x": null,
      "overflow_y": null,
      "padding": null,
      "right": null,
      "top": null,
      "visibility": null,
      "width": null
     }
    },
    "cb24f6740718425ea297338900205583": {
     "model_module": "@jupyter-widgets/controls",
     "model_module_version": "1.5.0",
     "model_name": "HTMLModel",
     "state": {
      "_dom_classes": [],
      "_model_module": "@jupyter-widgets/controls",
      "_model_module_version": "1.5.0",
      "_model_name": "HTMLModel",
      "_view_count": null,
      "_view_module": "@jupyter-widgets/controls",
      "_view_module_version": "1.5.0",
      "_view_name": "HTMLView",
      "description": "",
      "description_tooltip": null,
      "layout": "IPY_MODEL_4113b97e0d4946469069d24155855bd4",
      "placeholder": "​",
      "style": "IPY_MODEL_4cdae389b5e144a68ca4ac6bf827a0f1",
      "value": "  0%"
     }
    },
    "e8394358503643d6ba792bbec1c22aeb": {
     "model_module": "@jupyter-widgets/base",
     "model_module_version": "1.2.0",
     "model_name": "LayoutModel",
     "state": {
      "_model_module": "@jupyter-widgets/base",
      "_model_module_version": "1.2.0",
      "_model_name": "LayoutModel",
      "_view_count": null,
      "_view_module": "@jupyter-widgets/base",
      "_view_module_version": "1.2.0",
      "_view_name": "LayoutView",
      "align_content": null,
      "align_items": null,
      "align_self": null,
      "border": null,
      "bottom": null,
      "display": null,
      "flex": null,
      "flex_flow": null,
      "grid_area": null,
      "grid_auto_columns": null,
      "grid_auto_flow": null,
      "grid_auto_rows": null,
      "grid_column": null,
      "grid_gap": null,
      "grid_row": null,
      "grid_template_areas": null,
      "grid_template_columns": null,
      "grid_template_rows": null,
      "height": null,
      "justify_content": null,
      "justify_items": null,
      "left": null,
      "margin": null,
      "max_height": null,
      "max_width": null,
      "min_height": null,
      "min_width": null,
      "object_fit": null,
      "object_position": null,
      "order": null,
      "overflow": null,
      "overflow_x": null,
      "overflow_y": null,
      "padding": null,
      "right": null,
      "top": null,
      "visibility": null,
      "width": null
     }
    },
    "fc21bb5384b84bc381149e25bd7a4acc": {
     "model_module": "@jupyter-widgets/controls",
     "model_module_version": "1.5.0",
     "model_name": "FloatProgressModel",
     "state": {
      "_dom_classes": [],
      "_model_module": "@jupyter-widgets/controls",
      "_model_module_version": "1.5.0",
      "_model_name": "FloatProgressModel",
      "_view_count": null,
      "_view_module": "@jupyter-widgets/controls",
      "_view_module_version": "1.5.0",
      "_view_name": "ProgressView",
      "bar_style": "success",
      "description": "",
      "description_tooltip": null,
      "layout": "IPY_MODEL_fc91b96a91954e2d912759b8c6f7ff2f",
      "max": 52,
      "min": 0,
      "orientation": "horizontal",
      "style": "IPY_MODEL_76499d925c50497f9a521c7ef8f7523e",
      "value": 52
     }
    },
    "fc91b96a91954e2d912759b8c6f7ff2f": {
     "model_module": "@jupyter-widgets/base",
     "model_module_version": "1.2.0",
     "model_name": "LayoutModel",
     "state": {
      "_model_module": "@jupyter-widgets/base",
      "_model_module_version": "1.2.0",
      "_model_name": "LayoutModel",
      "_view_count": null,
      "_view_module": "@jupyter-widgets/base",
      "_view_module_version": "1.2.0",
      "_view_name": "LayoutView",
      "align_content": null,
      "align_items": null,
      "align_self": null,
      "border": null,
      "bottom": null,
      "display": null,
      "flex": null,
      "flex_flow": null,
      "grid_area": null,
      "grid_auto_columns": null,
      "grid_auto_flow": null,
      "grid_auto_rows": null,
      "grid_column": null,
      "grid_gap": null,
      "grid_row": null,
      "grid_template_areas": null,
      "grid_template_columns": null,
      "grid_template_rows": null,
      "height": null,
      "justify_content": null,
      "justify_items": null,
      "left": null,
      "margin": null,
      "max_height": null,
      "max_width": null,
      "min_height": null,
      "min_width": null,
      "object_fit": null,
      "object_position": null,
      "order": null,
      "overflow": null,
      "overflow_x": null,
      "overflow_y": null,
      "padding": null,
      "right": null,
      "top": null,
      "visibility": null,
      "width": null
     }
    }
   }
  }
 },
 "nbformat": 4,
 "nbformat_minor": 4
}
